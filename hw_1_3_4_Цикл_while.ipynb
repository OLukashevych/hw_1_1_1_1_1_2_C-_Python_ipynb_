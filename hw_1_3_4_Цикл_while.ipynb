{
  "nbformat": 4,
  "nbformat_minor": 0,
  "metadata": {
    "colab": {
      "provenance": [],
      "include_colab_link": true
    },
    "kernelspec": {
      "name": "python3",
      "display_name": "Python 3"
    },
    "language_info": {
      "name": "python"
    }
  },
  "cells": [
    {
      "cell_type": "markdown",
      "metadata": {
        "id": "view-in-github",
        "colab_type": "text"
      },
      "source": [
        "<a href=\"https://colab.research.google.com/github/OLukashevych/hw_1_1_1_1_1_2_C-_Python_ipynb_/blob/main/hw_1_3_4_%D0%A6%D0%B8%D0%BA%D0%BB_while.ipynb\" target=\"_parent\"><img src=\"https://colab.research.google.com/assets/colab-badge.svg\" alt=\"Open In Colab\"/></a>"
      ]
    },
    {
      "cell_type": "markdown",
      "source": [
        "#Домашнє завдання до теми \"Цикл while\""
      ],
      "metadata": {
        "id": "15XCoYr0awZ6"
      }
    },
    {
      "cell_type": "markdown",
      "source": [
        "1. **Лічильник до заданого числа.**\n",
        "   Завдання:\n",
        "     - Створіть цикл `while`, щоб він лічив від 1 до заданого числа в змінній `limit` (включно).\n",
        "     - Виведіть кожне число, яке проходить лічильник, на екран.\n",
        "     - В кінці виведіть повідомлення \"Кінець розрахунку!\".\n"
      ],
      "metadata": {
        "id": "xgCDxF5YhQSa"
      }
    },
    {
      "cell_type": "code",
      "source": [
        "limit = 9  # Задане число"
      ],
      "metadata": {
        "id": "wwSqYFCmiJTt"
      },
      "execution_count": 1,
      "outputs": []
    },
    {
      "cell_type": "code",
      "source": [
        "counter = 1\n",
        "\n",
        "while counter <= limit:\n",
        "    print(counter)\n",
        "    counter += 1\n",
        "\n",
        "print(\"Кінець розрахунку!\")\n"
      ],
      "metadata": {
        "id": "-t-kC6mJqNVx",
        "colab": {
          "base_uri": "https://localhost:8080/"
        },
        "outputId": "821ed0fa-e8f2-49a5-9ad9-4b0782131694"
      },
      "execution_count": 2,
      "outputs": [
        {
          "output_type": "stream",
          "name": "stdout",
          "text": [
            "1\n",
            "2\n",
            "3\n",
            "4\n",
            "5\n",
            "6\n",
            "7\n",
            "8\n",
            "9\n",
            "Кінець розрахунку!\n"
          ]
        }
      ]
    },
    {
      "cell_type": "markdown",
      "source": [
        "2. **Пошук першого парного числа.** Завдання:\n",
        "     - Створіть цикл `while`, щоб знайти перше парне число після заданого числа `start`.\n",
        "     - Знайдіть та виведіть перше парне число.\n"
      ],
      "metadata": {
        "id": "DlqunQnphZ9s"
      }
    },
    {
      "cell_type": "code",
      "source": [
        "start = 7  # Задане число"
      ],
      "metadata": {
        "id": "3CC3-gNJiW6X"
      },
      "execution_count": 3,
      "outputs": []
    },
    {
      "cell_type": "code",
      "source": [
        "current = start + 1\n",
        "\n",
        "while True:\n",
        "    if current % 2 == 0:\n",
        "        print(\"Перше парне число після\", start, \"це:\", current)\n",
        "        break\n",
        "    current += 1"
      ],
      "metadata": {
        "id": "5M8Ly9_Lj4-t",
        "colab": {
          "base_uri": "https://localhost:8080/"
        },
        "outputId": "17a80658-f12a-43ac-8897-37badd053ba4"
      },
      "execution_count": 5,
      "outputs": [
        {
          "output_type": "stream",
          "name": "stdout",
          "text": [
            "Перше парне число після 7 це: 8\n"
          ]
        }
      ]
    },
    {
      "cell_type": "markdown",
      "source": [
        "\n",
        "3. **Обчислення факторіалу.**   \n",
        "  Факторіал числа - це добуток всіх натуральних чисел від 1 до цього числа включно. Наприклад, факторіал числа 5 (позначається як 5!) дорівнює `1 * 2 * 3 * 4 * 5 = 120`.\n",
        "\n",
        "  Завдання:  \n",
        "      - Обчисліть факторіал заданого числа, використовуючи цикл `while`.  \n",
        "      - Задайте деяке число для обчислення факторіалу у змінній `num`.  \n",
        "      - Виведіть обчислений факторіал на екран.  \n"
      ],
      "metadata": {
        "id": "OlhKezZYiQJ2"
      }
    },
    {
      "cell_type": "code",
      "source": [
        "num = 5\n",
        "start = 1\n",
        "i = 1\n",
        "\n",
        "while i <= num:\n",
        "   start *= i\n",
        "   i += 1\n",
        "print(\"Факторіал числа\", num, \"дорівнює:\", start)"
      ],
      "metadata": {
        "id": "s0JKm0Wtj5s9",
        "colab": {
          "base_uri": "https://localhost:8080/"
        },
        "outputId": "83bae65c-eeb1-4f11-f6b5-f60a4fc3a94c"
      },
      "execution_count": 6,
      "outputs": [
        {
          "output_type": "stream",
          "name": "stdout",
          "text": [
            "Факторіал числа 5 дорівнює: 120\n"
          ]
        }
      ]
    }
  ]
}